{
 "cells": [
  {
   "cell_type": "markdown",
   "metadata": {},
   "source": [
    "# V.B. Multilayer networks\n",
    "\n",
    "Infomap supports different multilayer models:\n",
    "\n",
    "- Full multilayer format with explicit links\n",
    "- Intra/inter format\n",
    "- Only intra-layer links with tunable relax rate $r$"
   ]
  },
  {
   "cell_type": "code",
   "execution_count": 1,
   "id": "9653de61-c64b-425d-a8e6-65b34d032fd0",
   "metadata": {},
   "outputs": [],
   "source": [
    "from infomap import Infomap"
   ]
  },
  {
   "cell_type": "markdown",
   "id": "91dab2ee-864b-4dbf-81b9-58ac72c4e7c7",
   "metadata": {},
   "source": [
    "## Full format"
   ]
  },
  {
   "cell_type": "code",
   "execution_count": 2,
   "id": "f920b943-4a17-43c0-bfa0-fd2fd39bf93b",
   "metadata": {},
   "outputs": [
    {
     "name": "stdout",
     "output_type": "stream",
     "text": [
      "Found 2 modules with codelength 2.01 bits\n"
     ]
    }
   ],
   "source": [
    "im = Infomap(silent=True, directed=True)\n",
    "\n",
    "# intra\n",
    "# (source_layer, node), (target_layer, node), weight\n",
    "im.add_multilayer_link((1, 1), (1, 4), 0.8)\n",
    "im.add_multilayer_link((1, 4), (1, 1), 1)\n",
    "im.add_multilayer_link((1, 1), (1, 5), 0.8)\n",
    "im.add_multilayer_link((1, 5), (1, 1), 1)\n",
    "im.add_multilayer_link((1, 4), (1, 5), 1)\n",
    "im.add_multilayer_link((1, 5), (1, 4), 1)\n",
    "im.add_multilayer_link((2, 1), (2, 2), 0.8)\n",
    "im.add_multilayer_link((2, 2), (2, 1), 1)\n",
    "im.add_multilayer_link((2, 1), (2, 3), 0.8)\n",
    "im.add_multilayer_link((2, 3), (2, 1), 1)\n",
    "im.add_multilayer_link((2, 2), (2, 3), 1)\n",
    "im.add_multilayer_link((2, 3), (2, 2), 1)\n",
    "# inter\n",
    "im.add_multilayer_link((1, 1), (2, 2), 0.2)\n",
    "im.add_multilayer_link((1, 1), (2, 3), 0.2)\n",
    "im.add_multilayer_link((2, 1), (1, 4), 0.2)\n",
    "im.add_multilayer_link((2, 1), (1, 5), 0.2)\n",
    "\n",
    "im.run()\n",
    "print(f\"Found {im.num_top_modules} modules with codelength {im.codelength:.2f} bits\")"
   ]
  },
  {
   "cell_type": "code",
   "execution_count": 3,
   "id": "e14219d2-5186-464c-a934-c69ee97ddbc0",
   "metadata": {},
   "outputs": [
    {
     "data": {
      "text/html": [
       "<div>\n",
       "<style scoped>\n",
       "    .dataframe tbody tr th:only-of-type {\n",
       "        vertical-align: middle;\n",
       "    }\n",
       "\n",
       "    .dataframe tbody tr th {\n",
       "        vertical-align: top;\n",
       "    }\n",
       "\n",
       "    .dataframe thead th {\n",
       "        text-align: right;\n",
       "    }\n",
       "</style>\n",
       "<table border=\"1\" class=\"dataframe\">\n",
       "  <thead>\n",
       "    <tr style=\"text-align: right;\">\n",
       "      <th></th>\n",
       "      <th>path</th>\n",
       "      <th>flow</th>\n",
       "      <th>name</th>\n",
       "      <th>node_id</th>\n",
       "    </tr>\n",
       "  </thead>\n",
       "  <tbody>\n",
       "    <tr>\n",
       "      <th>0</th>\n",
       "      <td>(1, 1)</td>\n",
       "      <td>0.166667</td>\n",
       "      <td>1</td>\n",
       "      <td>1</td>\n",
       "    </tr>\n",
       "    <tr>\n",
       "      <th>1</th>\n",
       "      <td>(1, 2)</td>\n",
       "      <td>0.166667</td>\n",
       "      <td>2</td>\n",
       "      <td>2</td>\n",
       "    </tr>\n",
       "    <tr>\n",
       "      <th>2</th>\n",
       "      <td>(1, 3)</td>\n",
       "      <td>0.166667</td>\n",
       "      <td>3</td>\n",
       "      <td>3</td>\n",
       "    </tr>\n",
       "    <tr>\n",
       "      <th>3</th>\n",
       "      <td>(2, 1)</td>\n",
       "      <td>0.166667</td>\n",
       "      <td>1</td>\n",
       "      <td>1</td>\n",
       "    </tr>\n",
       "    <tr>\n",
       "      <th>4</th>\n",
       "      <td>(2, 2)</td>\n",
       "      <td>0.166667</td>\n",
       "      <td>4</td>\n",
       "      <td>4</td>\n",
       "    </tr>\n",
       "    <tr>\n",
       "      <th>5</th>\n",
       "      <td>(2, 3)</td>\n",
       "      <td>0.166667</td>\n",
       "      <td>5</td>\n",
       "      <td>5</td>\n",
       "    </tr>\n",
       "  </tbody>\n",
       "</table>\n",
       "</div>"
      ],
      "text/plain": [
       "     path      flow  name  node_id\n",
       "0  (1, 1)  0.166667     1        1\n",
       "1  (1, 2)  0.166667     2        2\n",
       "2  (1, 3)  0.166667     3        3\n",
       "3  (2, 1)  0.166667     1        1\n",
       "4  (2, 2)  0.166667     4        4\n",
       "5  (2, 3)  0.166667     5        5"
      ]
     },
     "execution_count": 3,
     "metadata": {},
     "output_type": "execute_result"
    }
   ],
   "source": [
    "# requires pandas\n",
    "im.get_dataframe()"
   ]
  },
  {
   "cell_type": "markdown",
   "id": "53daec98-1a63-4acf-bde7-29abf32f5f69",
   "metadata": {},
   "source": [
    "## Intra/inter format"
   ]
  },
  {
   "cell_type": "code",
   "execution_count": 4,
   "id": "0e4ae0c8-4426-439c-96fd-747b76e4a8fd",
   "metadata": {},
   "outputs": [
    {
     "name": "stdout",
     "output_type": "stream",
     "text": [
      "Found 2 modules with codelength 1.85 bits\n"
     ]
    }
   ],
   "source": [
    "im = Infomap(silent=True, directed=True)\n",
    "\n",
    "# intra\n",
    "# layer, source_node, target_node, weight\n",
    "im.add_multilayer_intra_link(1, 1, 4, 0.8)\n",
    "im.add_multilayer_intra_link(1, 4, 1, 1)\n",
    "im.add_multilayer_intra_link(1, 1, 5, 0.8)\n",
    "im.add_multilayer_intra_link(1, 5, 1, 1)\n",
    "im.add_multilayer_intra_link(1, 4, 5, 1)\n",
    "im.add_multilayer_intra_link(1, 5, 4, 1)\n",
    "im.add_multilayer_intra_link(2, 1, 2, 0.8)\n",
    "im.add_multilayer_intra_link(2, 2, 1, 1)\n",
    "im.add_multilayer_intra_link(2, 1, 3, 0.8)\n",
    "im.add_multilayer_intra_link(2, 3, 1, 1)\n",
    "im.add_multilayer_intra_link(2, 2, 3, 1)\n",
    "im.add_multilayer_intra_link(2, 3, 2, 1)\n",
    "# inter\n",
    "# source_layer, node, target_layer, weight\n",
    "im.add_multilayer_inter_link(1, 1, 2, 0.2)\n",
    "im.add_multilayer_inter_link(2, 1, 1, 0.2)\n",
    "\n",
    "im.run()\n",
    "print(f\"Found {im.num_top_modules} modules with codelength {im.codelength:.2f} bits\")"
   ]
  },
  {
   "cell_type": "code",
   "execution_count": 5,
   "id": "5d7f2107-4897-479e-aa7f-f3227d3f9a93",
   "metadata": {},
   "outputs": [
    {
     "data": {
      "text/html": [
       "<div>\n",
       "<style scoped>\n",
       "    .dataframe tbody tr th:only-of-type {\n",
       "        vertical-align: middle;\n",
       "    }\n",
       "\n",
       "    .dataframe tbody tr th {\n",
       "        vertical-align: top;\n",
       "    }\n",
       "\n",
       "    .dataframe thead th {\n",
       "        text-align: right;\n",
       "    }\n",
       "</style>\n",
       "<table border=\"1\" class=\"dataframe\">\n",
       "  <thead>\n",
       "    <tr style=\"text-align: right;\">\n",
       "      <th></th>\n",
       "      <th>path</th>\n",
       "      <th>flow</th>\n",
       "      <th>name</th>\n",
       "      <th>node_id</th>\n",
       "    </tr>\n",
       "  </thead>\n",
       "  <tbody>\n",
       "    <tr>\n",
       "      <th>0</th>\n",
       "      <td>(1, 1)</td>\n",
       "      <td>0.167272</td>\n",
       "      <td>1</td>\n",
       "      <td>1</td>\n",
       "    </tr>\n",
       "    <tr>\n",
       "      <th>1</th>\n",
       "      <td>(1, 2)</td>\n",
       "      <td>0.166364</td>\n",
       "      <td>4</td>\n",
       "      <td>4</td>\n",
       "    </tr>\n",
       "    <tr>\n",
       "      <th>2</th>\n",
       "      <td>(1, 3)</td>\n",
       "      <td>0.166364</td>\n",
       "      <td>5</td>\n",
       "      <td>5</td>\n",
       "    </tr>\n",
       "    <tr>\n",
       "      <th>3</th>\n",
       "      <td>(2, 1)</td>\n",
       "      <td>0.167272</td>\n",
       "      <td>1</td>\n",
       "      <td>1</td>\n",
       "    </tr>\n",
       "    <tr>\n",
       "      <th>4</th>\n",
       "      <td>(2, 2)</td>\n",
       "      <td>0.166364</td>\n",
       "      <td>2</td>\n",
       "      <td>2</td>\n",
       "    </tr>\n",
       "    <tr>\n",
       "      <th>5</th>\n",
       "      <td>(2, 3)</td>\n",
       "      <td>0.166364</td>\n",
       "      <td>3</td>\n",
       "      <td>3</td>\n",
       "    </tr>\n",
       "  </tbody>\n",
       "</table>\n",
       "</div>"
      ],
      "text/plain": [
       "     path      flow  name  node_id\n",
       "0  (1, 1)  0.167272     1        1\n",
       "1  (1, 2)  0.166364     4        4\n",
       "2  (1, 3)  0.166364     5        5\n",
       "3  (2, 1)  0.167272     1        1\n",
       "4  (2, 2)  0.166364     2        2\n",
       "5  (2, 3)  0.166364     3        3"
      ]
     },
     "execution_count": 5,
     "metadata": {},
     "output_type": "execute_result"
    }
   ],
   "source": [
    "im.get_dataframe()"
   ]
  },
  {
   "cell_type": "markdown",
   "id": "983bd643-64b7-427d-b018-0aeb7c05a310",
   "metadata": {},
   "source": [
    "## Inter-layer links with relax rate"
   ]
  },
  {
   "cell_type": "code",
   "execution_count": 6,
   "id": "bf4c97b8-0741-485a-a75c-85f0545cb01e",
   "metadata": {},
   "outputs": [
    {
     "name": "stdout",
     "output_type": "stream",
     "text": [
      "Found 2 modules with codelength 1.78 bits\n"
     ]
    }
   ],
   "source": [
    "im = Infomap(silent=True, directed=True, multilayer_relax_rate=0.15)\n",
    "\n",
    "# intra\n",
    "# layer, source_node, target_node, weight\n",
    "im.add_multilayer_intra_link(1, 1, 4, 0.8)\n",
    "im.add_multilayer_intra_link(1, 4, 1, 1)\n",
    "im.add_multilayer_intra_link(1, 1, 5, 0.8)\n",
    "im.add_multilayer_intra_link(1, 5, 1, 1)\n",
    "im.add_multilayer_intra_link(1, 4, 5, 1)\n",
    "im.add_multilayer_intra_link(1, 5, 4, 1)\n",
    "im.add_multilayer_intra_link(2, 1, 2, 0.8)\n",
    "im.add_multilayer_intra_link(2, 2, 1, 1)\n",
    "im.add_multilayer_intra_link(2, 1, 3, 0.8)\n",
    "im.add_multilayer_intra_link(2, 3, 1, 1)\n",
    "im.add_multilayer_intra_link(2, 2, 3, 1)\n",
    "im.add_multilayer_intra_link(2, 3, 2, 1)\n",
    "\n",
    "im.run()\n",
    "print(f\"Found {im.num_top_modules} modules with codelength {im.codelength:.2f} bits\")"
   ]
  },
  {
   "cell_type": "code",
   "execution_count": 7,
   "id": "9c959bf5-2e34-4dee-80cb-991caa9cd406",
   "metadata": {},
   "outputs": [
    {
     "data": {
      "text/html": [
       "<div>\n",
       "<style scoped>\n",
       "    .dataframe tbody tr th:only-of-type {\n",
       "        vertical-align: middle;\n",
       "    }\n",
       "\n",
       "    .dataframe tbody tr th {\n",
       "        vertical-align: top;\n",
       "    }\n",
       "\n",
       "    .dataframe thead th {\n",
       "        text-align: right;\n",
       "    }\n",
       "</style>\n",
       "<table border=\"1\" class=\"dataframe\">\n",
       "  <thead>\n",
       "    <tr style=\"text-align: right;\">\n",
       "      <th></th>\n",
       "      <th>path</th>\n",
       "      <th>flow</th>\n",
       "      <th>name</th>\n",
       "      <th>node_id</th>\n",
       "    </tr>\n",
       "  </thead>\n",
       "  <tbody>\n",
       "    <tr>\n",
       "      <th>0</th>\n",
       "      <td>(1, 1)</td>\n",
       "      <td>0.166667</td>\n",
       "      <td>2</td>\n",
       "      <td>2</td>\n",
       "    </tr>\n",
       "    <tr>\n",
       "      <th>1</th>\n",
       "      <td>(1, 2)</td>\n",
       "      <td>0.166667</td>\n",
       "      <td>3</td>\n",
       "      <td>3</td>\n",
       "    </tr>\n",
       "    <tr>\n",
       "      <th>2</th>\n",
       "      <td>(1, 3)</td>\n",
       "      <td>0.166667</td>\n",
       "      <td>1</td>\n",
       "      <td>1</td>\n",
       "    </tr>\n",
       "    <tr>\n",
       "      <th>3</th>\n",
       "      <td>(2, 1)</td>\n",
       "      <td>0.166667</td>\n",
       "      <td>4</td>\n",
       "      <td>4</td>\n",
       "    </tr>\n",
       "    <tr>\n",
       "      <th>4</th>\n",
       "      <td>(2, 2)</td>\n",
       "      <td>0.166667</td>\n",
       "      <td>5</td>\n",
       "      <td>5</td>\n",
       "    </tr>\n",
       "    <tr>\n",
       "      <th>5</th>\n",
       "      <td>(2, 3)</td>\n",
       "      <td>0.166667</td>\n",
       "      <td>1</td>\n",
       "      <td>1</td>\n",
       "    </tr>\n",
       "  </tbody>\n",
       "</table>\n",
       "</div>"
      ],
      "text/plain": [
       "     path      flow  name  node_id\n",
       "0  (1, 1)  0.166667     2        2\n",
       "1  (1, 2)  0.166667     3        3\n",
       "2  (1, 3)  0.166667     1        1\n",
       "3  (2, 1)  0.166667     4        4\n",
       "4  (2, 2)  0.166667     5        5\n",
       "5  (2, 3)  0.166667     1        1"
      ]
     },
     "execution_count": 7,
     "metadata": {},
     "output_type": "execute_result"
    }
   ],
   "source": [
    "im.get_dataframe()"
   ]
  },
  {
   "cell_type": "code",
   "execution_count": null,
   "id": "2abdd87d-ed18-42cb-b01f-21f61add1c98",
   "metadata": {},
   "outputs": [],
   "source": []
  }
 ],
 "metadata": {
  "kernelspec": {
   "display_name": "Python 3 (ipykernel)",
   "language": "python",
   "name": "python3"
  },
  "language_info": {
   "codemirror_mode": {
    "name": "ipython",
    "version": 3
   },
   "file_extension": ".py",
   "mimetype": "text/x-python",
   "name": "python",
   "nbconvert_exporter": "python",
   "pygments_lexer": "ipython3",
   "version": "3.9.7"
  }
 },
 "nbformat": 4,
 "nbformat_minor": 5
}
